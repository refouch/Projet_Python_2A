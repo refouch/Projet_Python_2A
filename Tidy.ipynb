{
 "cells": [
  {
   "cell_type": "markdown",
   "metadata": {},
   "source": [
    "# Phase de Nettoyage des données\n",
    "\n",
    "Les différentes données récupérées ont tout d'abord besoin d'être nettoyées pour les besoins du projet. Si les données fournies par l'EUDA sont déjà très propres et ne nécéssiteront qu'un léger travail de tri, voire éventuellement quelques merge utiles sur certaines tables, ce n'est pas le cas des données scrapées à partir de pages Wikipedia qui vont nous demander un travail de nettoyage plus approfondi.\n",
    "\n",
    "## Nettoyage des données scrapées depuis Wikipedia\n",
    "\n",
    "On commence par générer notre dataframe à partir du scraping des données de [l'article Wikipedia sur la légalisation du Cannabis par Pays](https://en.wikipedia.org/wiki/Legality_of_cannabis). Le code détaillé et commenté se trouve dans le fichier `scraping.py`, on se contente ici d'appeler nos fonctions.\n"
   ]
  },
  {
   "cell_type": "code",
   "execution_count": 1,
   "metadata": {},
   "outputs": [
    {
     "data": {
      "text/html": [
       "<div>\n",
       "<style scoped>\n",
       "    .dataframe tbody tr th:only-of-type {\n",
       "        vertical-align: middle;\n",
       "    }\n",
       "\n",
       "    .dataframe tbody tr th {\n",
       "        vertical-align: top;\n",
       "    }\n",
       "\n",
       "    .dataframe thead th {\n",
       "        text-align: right;\n",
       "    }\n",
       "</style>\n",
       "<table border=\"1\" class=\"dataframe\">\n",
       "  <thead>\n",
       "    <tr style=\"text-align: right;\">\n",
       "      <th></th>\n",
       "      <th>Recreational</th>\n",
       "      <th>Medical</th>\n",
       "      <th>Notes</th>\n",
       "    </tr>\n",
       "  </thead>\n",
       "  <tbody>\n",
       "    <tr>\n",
       "      <th>Afghanistan</th>\n",
       "      <td>Illegal</td>\n",
       "      <td>Illegal</td>\n",
       "      <td>Main article: Cannabis in Afghanistan Producti...</td>\n",
       "    </tr>\n",
       "    <tr>\n",
       "      <th>Albania</th>\n",
       "      <td>Illegal</td>\n",
       "      <td>Legal</td>\n",
       "      <td>Main article: Cannabis in Albania Prohibited b...</td>\n",
       "    </tr>\n",
       "    <tr>\n",
       "      <th>Algeria</th>\n",
       "      <td>Illegal</td>\n",
       "      <td>Illegal</td>\n",
       "      <td>Main article: Cannabis in Algeria</td>\n",
       "    </tr>\n",
       "    <tr>\n",
       "      <th>Andorra</th>\n",
       "      <td>Illegal</td>\n",
       "      <td>Illegal</td>\n",
       "      <td>Main article: Cannabis in Andorra</td>\n",
       "    </tr>\n",
       "    <tr>\n",
       "      <th>Angola</th>\n",
       "      <td>Illegal</td>\n",
       "      <td>Illegal</td>\n",
       "      <td>Main article: Cannabis in Angola</td>\n",
       "    </tr>\n",
       "  </tbody>\n",
       "</table>\n",
       "</div>"
      ],
      "text/plain": [
       "            Recreational  Medical  \\\n",
       "Afghanistan      Illegal  Illegal   \n",
       "Albania          Illegal    Legal   \n",
       "Algeria          Illegal  Illegal   \n",
       "Andorra          Illegal  Illegal   \n",
       "Angola           Illegal  Illegal   \n",
       "\n",
       "                                                         Notes  \n",
       "Afghanistan  Main article: Cannabis in Afghanistan Producti...  \n",
       "Albania      Main article: Cannabis in Albania Prohibited b...  \n",
       "Algeria                      Main article: Cannabis in Algeria  \n",
       "Andorra                      Main article: Cannabis in Andorra  \n",
       "Angola                        Main article: Cannabis in Angola  "
      ]
     },
     "execution_count": 1,
     "metadata": {},
     "output_type": "execute_result"
    }
   ],
   "source": [
    "from Data.scraping import scraping as s\n",
    "\n",
    "url = \"https://en.wikipedia.org/wiki/Legality_of_cannabis\"\n",
    "\n",
    "table = s.scrape_second_wikipedia_table(url)\n",
    "data, header = s.table_to_list(table)\n",
    "legal_pays = s.make_pandas(data, header)\n",
    "\n",
    "legal_pays.head()"
   ]
  },
  {
   "cell_type": "markdown",
   "metadata": {},
   "source": [
    "On remarque alors que notre Dataframe contient plusieurs éléments qui nécéssitent d'être nettoyés, modifiés, voire supprimés. Dans l'ordre on peut citer:\n",
    "\n",
    "1. **Supprimer la dernier colonne concernant les \"Notes\"**, qui peuvent nous être utile à des fins d'interprétation, ou encore pour aider à la classification ou à l'interprétation plus tard, mais qui en l'état seront inutiles à la statistique descriptive ou à la construction de modèles plus tard.\n",
    "\n",
    "2. **Eliminer de notre dataframe les pays non-européens**, puisque les données de l'EUDA ne s'intéresse qu'au cas européeen, et que c'est là le coeur de notre sujet.\n",
    "\n",
    "3. Enfin, il nous faudra **regrouper les différentes états des variables sous un format clair** En l'état, on dispose pour chaque pays d'une description parfois unique et idividuelle de la législation dans le pays donné. L'idéal serait de ne garder qu'une variable binaire: Légal/Illégal. Cependant la réalité est plus complexe dans certains pays, et il nous faudra alors faire des choix, et les justifier, pour essayer de ne garder qu'un nombre limité d'état pour chaque variable."
   ]
  },
  {
   "cell_type": "markdown",
   "metadata": {},
   "source": [
    "### Suppression de la colonne des Notes\n",
    "\n",
    "Cela n'est pas bien compliqué, on utilise simplement les outils de la librairie Pandas:"
   ]
  },
  {
   "cell_type": "code",
   "execution_count": 2,
   "metadata": {},
   "outputs": [
    {
     "data": {
      "text/html": [
       "<div>\n",
       "<style scoped>\n",
       "    .dataframe tbody tr th:only-of-type {\n",
       "        vertical-align: middle;\n",
       "    }\n",
       "\n",
       "    .dataframe tbody tr th {\n",
       "        vertical-align: top;\n",
       "    }\n",
       "\n",
       "    .dataframe thead th {\n",
       "        text-align: right;\n",
       "    }\n",
       "</style>\n",
       "<table border=\"1\" class=\"dataframe\">\n",
       "  <thead>\n",
       "    <tr style=\"text-align: right;\">\n",
       "      <th></th>\n",
       "      <th>Recreational</th>\n",
       "      <th>Medical</th>\n",
       "    </tr>\n",
       "  </thead>\n",
       "  <tbody>\n",
       "    <tr>\n",
       "      <th>Afghanistan</th>\n",
       "      <td>Illegal</td>\n",
       "      <td>Illegal</td>\n",
       "    </tr>\n",
       "    <tr>\n",
       "      <th>Albania</th>\n",
       "      <td>Illegal</td>\n",
       "      <td>Legal</td>\n",
       "    </tr>\n",
       "    <tr>\n",
       "      <th>Algeria</th>\n",
       "      <td>Illegal</td>\n",
       "      <td>Illegal</td>\n",
       "    </tr>\n",
       "    <tr>\n",
       "      <th>Andorra</th>\n",
       "      <td>Illegal</td>\n",
       "      <td>Illegal</td>\n",
       "    </tr>\n",
       "    <tr>\n",
       "      <th>Angola</th>\n",
       "      <td>Illegal</td>\n",
       "      <td>Illegal</td>\n",
       "    </tr>\n",
       "  </tbody>\n",
       "</table>\n",
       "</div>"
      ],
      "text/plain": [
       "            Recreational  Medical\n",
       "Afghanistan      Illegal  Illegal\n",
       "Albania          Illegal    Legal\n",
       "Algeria          Illegal  Illegal\n",
       "Andorra          Illegal  Illegal\n",
       "Angola           Illegal  Illegal"
      ]
     },
     "execution_count": 2,
     "metadata": {},
     "output_type": "execute_result"
    }
   ],
   "source": [
    "import pandas as pd\n",
    "\n",
    "legal_pays_clean = legal_pays.drop(columns = \"Notes\")\n",
    "\n",
    "legal_pays_clean.head()"
   ]
  },
  {
   "cell_type": "markdown",
   "metadata": {},
   "source": [
    "### Tri pour ne garder que les pays Européens\n",
    "\n",
    "Cette opération n'est elle aussi pas très compliquée, on va se servir d'une table de correspondance scrapée sur le [site national de Statistiques Candiennes](https://www23.statcan.gc.ca/imdb/p3VD.pl?Function=getVD&TVD=1312110) (ce afin d'avoir le nom des pays en anglais), qui nous sera d'ailleurs aussi utile plus tard afin de faire correspondre chaque pays de l'Union européenne avec son code ISO 3316."
   ]
  },
  {
   "cell_type": "code",
   "execution_count": 3,
   "metadata": {},
   "outputs": [
    {
     "data": {
      "text/html": [
       "<div>\n",
       "<style scoped>\n",
       "    .dataframe tbody tr th:only-of-type {\n",
       "        vertical-align: middle;\n",
       "    }\n",
       "\n",
       "    .dataframe tbody tr th {\n",
       "        vertical-align: top;\n",
       "    }\n",
       "\n",
       "    .dataframe thead th {\n",
       "        text-align: right;\n",
       "    }\n",
       "</style>\n",
       "<table border=\"1\" class=\"dataframe\">\n",
       "  <thead>\n",
       "    <tr style=\"text-align: right;\">\n",
       "      <th></th>\n",
       "      <th>0</th>\n",
       "      <th>1</th>\n",
       "    </tr>\n",
       "  </thead>\n",
       "  <tbody>\n",
       "    <tr>\n",
       "      <th>Belgium</th>\n",
       "      <td>BE</td>\n",
       "      <td>BEL</td>\n",
       "    </tr>\n",
       "    <tr>\n",
       "      <th>Bulgaria</th>\n",
       "      <td>BG</td>\n",
       "      <td>BGR</td>\n",
       "    </tr>\n",
       "    <tr>\n",
       "      <th>Croatia</th>\n",
       "      <td>HR</td>\n",
       "      <td>HRV</td>\n",
       "    </tr>\n",
       "    <tr>\n",
       "      <th>Cyprus</th>\n",
       "      <td>CY</td>\n",
       "      <td>CYP</td>\n",
       "    </tr>\n",
       "    <tr>\n",
       "      <th>Czechia</th>\n",
       "      <td>CZ</td>\n",
       "      <td>CZE</td>\n",
       "    </tr>\n",
       "  </tbody>\n",
       "</table>\n",
       "</div>"
      ],
      "text/plain": [
       "           0    1\n",
       "Belgium   BE  BEL\n",
       "Bulgaria  BG  BGR\n",
       "Croatia   HR  HRV\n",
       "Cyprus    CY  CYP\n",
       "Czechia   CZ  CZE"
      ]
     },
     "execution_count": 3,
     "metadata": {},
     "output_type": "execute_result"
    }
   ],
   "source": [
    "from Data.scraping import scraping as s\n",
    "\n",
    "url = \"https://www23.statcan.gc.ca/imdb/p3VD.pl?Function=getVD&TVD=1312110\"\n",
    "\n",
    "table = s.scrape_first_table(url)\n",
    "data, header = s.table_to_list(table)\n",
    "table_corres = s.make_pandas(data)\n",
    "\n",
    "table_corres.head()"
   ]
  },
  {
   "cell_type": "markdown",
   "metadata": {},
   "source": [
    "On doit néanmoins ajouter à la main certains pays non-membres de l'Union Européenne, mais présent dans les données que nous avons à disposition (souvent des pays candidats comme la Turquie)"
   ]
  },
  {
   "cell_type": "code",
   "execution_count": 4,
   "metadata": {},
   "outputs": [
    {
     "name": "stdout",
     "output_type": "stream",
     "text": [
      "              0    1\n",
      "Belgium      BE  BEL\n",
      "Bulgaria     BG  BGR\n",
      "Croatia      HR  HRV\n",
      "Cyprus       CY  CYP\n",
      "Czechia      CZ  CZE\n",
      "Denmark      DK  DNK\n",
      "Estonia      EE  EST\n",
      "Finland      FI  FIN\n",
      "France       FR  FRA\n",
      "Germany      DE  DEU\n",
      "Greece       GR  GRC\n",
      "Hungary      HU  HUN\n",
      "Ireland      IE  IRL\n",
      "Italy        IT  ITA\n",
      "Latvia       LV  LVA\n",
      "Lithuania    LT  LTU\n",
      "Luxembourg   LU  LUX\n",
      "Malta        MT  MLT\n",
      "Netherlands  NL  NLD\n",
      "Poland       PL  POL\n",
      "Portugal     PT  PRT\n",
      "Romania      RO  ROU\n",
      "Slovakia     SK  SVK\n",
      "Slovenia     SI  SVN\n",
      "Spain        ES  ESP\n",
      "Sweden       SE  SWE\n",
      "Austria      AT  AUT\n",
      "Türkiye      TR  TUR\n",
      "Norway       NO  NOR\n"
     ]
    }
   ],
   "source": [
    "import pandas as pd\n",
    "\n",
    "table_corres.loc[\"Austria\"] = [\"AT\",\"AUT\"]\n",
    "table_corres.loc[\"Türkiye\"] = [\"TR\",\"TUR\"]\n",
    "table_corres.loc[\"Norway\"] = [\"NO\",\"NOR\"]\n",
    "\n",
    "table_corres.tail()\n",
    "print(table_corres)"
   ]
  },
  {
   "cell_type": "markdown",
   "metadata": {},
   "source": [
    "On effectue ensuite le tri des pays européens selon la manière suivante, en supprimant de la table principale toutes les lignes qui n'ont pas d'équivalent dans la table de correspondance."
   ]
  },
  {
   "cell_type": "code",
   "execution_count": 5,
   "metadata": {},
   "outputs": [
    {
     "data": {
      "text/html": [
       "<div>\n",
       "<style scoped>\n",
       "    .dataframe tbody tr th:only-of-type {\n",
       "        vertical-align: middle;\n",
       "    }\n",
       "\n",
       "    .dataframe tbody tr th {\n",
       "        vertical-align: top;\n",
       "    }\n",
       "\n",
       "    .dataframe thead th {\n",
       "        text-align: right;\n",
       "    }\n",
       "</style>\n",
       "<table border=\"1\" class=\"dataframe\">\n",
       "  <thead>\n",
       "    <tr style=\"text-align: right;\">\n",
       "      <th></th>\n",
       "      <th>Recreational</th>\n",
       "      <th>Medical</th>\n",
       "    </tr>\n",
       "  </thead>\n",
       "  <tbody>\n",
       "    <tr>\n",
       "      <th>Austria</th>\n",
       "      <td>Possession for personal use decriminalized as ...</td>\n",
       "      <td>Dronabinol, Sativex, Nabilone[25]</td>\n",
       "    </tr>\n",
       "    <tr>\n",
       "      <th>Belgium</th>\n",
       "      <td>Decriminalized up to 3 g (1⁄10 oz) or cultivat...</td>\n",
       "      <td>Sativex[31]</td>\n",
       "    </tr>\n",
       "    <tr>\n",
       "      <th>Bulgaria</th>\n",
       "      <td>Illegal</td>\n",
       "      <td>Illegal</td>\n",
       "    </tr>\n",
       "    <tr>\n",
       "      <th>Croatia</th>\n",
       "      <td>Decriminalized[71]</td>\n",
       "      <td>Legal[72]</td>\n",
       "    </tr>\n",
       "    <tr>\n",
       "      <th>Cyprus</th>\n",
       "      <td>Illegal</td>\n",
       "      <td>Legal[73]</td>\n",
       "    </tr>\n",
       "  </tbody>\n",
       "</table>\n",
       "</div>"
      ],
      "text/plain": [
       "                                               Recreational  \\\n",
       "Austria   Possession for personal use decriminalized as ...   \n",
       "Belgium   Decriminalized up to 3 g (1⁄10 oz) or cultivat...   \n",
       "Bulgaria                                            Illegal   \n",
       "Croatia                                  Decriminalized[71]   \n",
       "Cyprus                                              Illegal   \n",
       "\n",
       "                                    Medical  \n",
       "Austria   Dronabinol, Sativex, Nabilone[25]  \n",
       "Belgium                         Sativex[31]  \n",
       "Bulgaria                            Illegal  \n",
       "Croatia                           Legal[72]  \n",
       "Cyprus                            Legal[73]  "
      ]
     },
     "execution_count": 5,
     "metadata": {},
     "output_type": "execute_result"
    }
   ],
   "source": [
    "# On renomme certains pays pour correspondre aux données de l'EUDA \n",
    "legal_pays_clean.rename(index={\"Turkey\":\"Türkiye\"}, inplace=True)\n",
    "legal_pays_clean.rename(index={\"Czech Republic\":\"Czechia\"}, inplace=True)\n",
    "\n",
    "for index in legal_pays_clean.index:\n",
    "    if index in table_corres.index:\n",
    "        pass\n",
    "    else:\n",
    "        legal_pays_clean = legal_pays_clean.drop(index = index)\n",
    "\n",
    "legal_pays_clean.head()\n"
   ]
  },
  {
   "cell_type": "markdown",
   "metadata": {},
   "source": [
    "### Recodage de chaque élément dans une variable ternaire\n",
    "\n",
    "Il nous faut désormais faire un travail de recodage des informations contenues dans le tableau, afin de ne garder au final qu'une variable avec trois états possibles:\n",
    "\n",
    "- `Legal` si la consommation, la possession et la vente sont légales et encadrées dans le pays\n",
    "- `Illegal` si la consommation, la possession et la vente sont illégale et passibles de poursuites judiciaires\n",
    "- `Decriminalized` si la consommation et la possession sont décriminalisées, mais la vente est illégale. On ne fait pas ici de différence entre la pénalisation ou non du cannabis (la seule différence étant que dans le cas ou ce dernier est pénalisé, la consommation et la possession sont toujours passibles d'une amende, mais pas de poursuites légales)\n",
    "\n",
    "Dans certains cas la classification s'avère très simples, dans d'autres il nous faudra bien justifier tel ou tel classement en fonction de la situation du pays. Nous n'avons donc pas d'autre choix que d'effectuer ce travail manuellement, au cas pas cas.\n",
    "\n",
    "Nous détaillerons et justifions brièvement ci-dessous les choix de codage effectués. Pour cela nous nous sommes principalement appuyés sur [l'article Wikipedia](https://en.wikipedia.org/wiki/Legality_of_cannabis) dont est issu le tableau, ainsi que sur les articles détaillés concernant chaque pays, qu'on peut retrouver à partir du même tableau.\n",
    "\n",
    "- Austria: Décriminalisé pour un usage récréatif, et légal pour usage médical. Même si seulement certains types de cannabinoïdes sont autorisés (Sativex notamment)\n",
    "\n",
    "- Belgium: Même cas que pour l'Autriche. On compte l'autorisation du Sativex comme valant une légalisation dans le domaine médical. Pour ce qui est de la décriminalisation de l'usage récréatif, cette dernière est limités à un plant, mais on le compte tout de même comme dépénalisé.\n",
    "\n",
    "**En règle générale, on comptera une substance comme Légalisée ou dépénalisée, même si il y a une certaine limite de poids ou de plants pour la possession ou la culture**\n",
    "\n",
    "- Czechia: Décriminalisée pour l'usage récréatif, légal pour l'usage médical même si il existe des limites, mais on se tient à notre règle fixée précédemment\n",
    "\n",
    "- Finland: Illégal pour usage récréatif mais une forte tolérance existe, et résulte en général seulement en une amende. On le code donc comme \"Décriminalisé\"\n",
    "\n",
    "- France: Même cas que pour la Finlande, l'amende remplace la peine légale dans la plupart des cas. L'usage médical reste illégal.\n",
    "\n",
    "- Georgia: Légal à la possession et à la consommation mais pas à la vente. On le comptera tout de même comme légal.\n",
    "\n",
    "- Hungary: Seul le CBD est autorisé pour l'usage médical, on le compte donc comme illégal.\n",
    "\n",
    "\n",
    "**Deuxième règle générale: la légalisation du CBD ne vaut pas légalisation du cannabis**\n"
   ]
  },
  {
   "cell_type": "code",
   "execution_count": 19,
   "metadata": {},
   "outputs": [
    {
     "ename": "ValueError",
     "evalue": "Must have equal len keys and value when setting with an iterable",
     "output_type": "error",
     "traceback": [
      "\u001b[0;31m---------------------------------------------------------------------------\u001b[0m",
      "\u001b[0;31mValueError\u001b[0m                                Traceback (most recent call last)",
      "Cell \u001b[0;32mIn[19], line 14\u001b[0m\n\u001b[1;32m     11\u001b[0m         \u001b[38;5;28;01melif\u001b[39;00m \u001b[38;5;124m\"\u001b[39m\u001b[38;5;124mDecriminalized\u001b[39m\u001b[38;5;124m\"\u001b[39m \u001b[38;5;129;01min\u001b[39;00m content[i]:\n\u001b[1;32m     12\u001b[0m             content[i] \u001b[38;5;241m=\u001b[39m \u001b[38;5;124m\"\u001b[39m\u001b[38;5;124mDecriminalized\u001b[39m\u001b[38;5;124m\"\u001b[39m\n\u001b[0;32m---> 14\u001b[0m     \u001b[43mlegal_pays_clean\u001b[49m\u001b[38;5;241;43m.\u001b[39;49m\u001b[43mloc\u001b[49m\u001b[43m[\u001b[49m\u001b[43mindex\u001b[49m\u001b[43m]\u001b[49m \u001b[38;5;241m=\u001b[39m content\n\u001b[1;32m     16\u001b[0m \u001b[38;5;124;03m\"\"\"\u001b[39;00m\n\u001b[1;32m     17\u001b[0m \u001b[38;5;124;03mlegal_pays_clean.loc[\"Austria\"] = ['Decriminalized','Legal']\u001b[39;00m\n\u001b[1;32m     18\u001b[0m \u001b[38;5;124;03mlegal_pays_clean.loc[\"Belgium\"] = ['Decriminalized','Legal']\u001b[39;00m\n\u001b[0;32m   (...)\u001b[0m\n\u001b[1;32m     22\u001b[0m \u001b[38;5;124;03mlegal_pays_clean.loc[\"Czechia\"] = ['Decriminalized','Legal']\u001b[39;00m\n\u001b[1;32m     23\u001b[0m \u001b[38;5;124;03m\"\"\"\u001b[39;00m\n\u001b[1;32m     27\u001b[0m \u001b[38;5;28mprint\u001b[39m(legal_pays_clean)\n",
      "File \u001b[0;32m/opt/conda/lib/python3.12/site-packages/pandas/core/indexing.py:911\u001b[0m, in \u001b[0;36m_LocationIndexer.__setitem__\u001b[0;34m(self, key, value)\u001b[0m\n\u001b[1;32m    908\u001b[0m \u001b[38;5;28mself\u001b[39m\u001b[38;5;241m.\u001b[39m_has_valid_setitem_indexer(key)\n\u001b[1;32m    910\u001b[0m iloc \u001b[38;5;241m=\u001b[39m \u001b[38;5;28mself\u001b[39m \u001b[38;5;28;01mif\u001b[39;00m \u001b[38;5;28mself\u001b[39m\u001b[38;5;241m.\u001b[39mname \u001b[38;5;241m==\u001b[39m \u001b[38;5;124m\"\u001b[39m\u001b[38;5;124miloc\u001b[39m\u001b[38;5;124m\"\u001b[39m \u001b[38;5;28;01melse\u001b[39;00m \u001b[38;5;28mself\u001b[39m\u001b[38;5;241m.\u001b[39mobj\u001b[38;5;241m.\u001b[39miloc\n\u001b[0;32m--> 911\u001b[0m \u001b[43miloc\u001b[49m\u001b[38;5;241;43m.\u001b[39;49m\u001b[43m_setitem_with_indexer\u001b[49m\u001b[43m(\u001b[49m\u001b[43mindexer\u001b[49m\u001b[43m,\u001b[49m\u001b[43m \u001b[49m\u001b[43mvalue\u001b[49m\u001b[43m,\u001b[49m\u001b[43m \u001b[49m\u001b[38;5;28;43mself\u001b[39;49m\u001b[38;5;241;43m.\u001b[39;49m\u001b[43mname\u001b[49m\u001b[43m)\u001b[49m\n",
      "File \u001b[0;32m/opt/conda/lib/python3.12/site-packages/pandas/core/indexing.py:1942\u001b[0m, in \u001b[0;36m_iLocIndexer._setitem_with_indexer\u001b[0;34m(self, indexer, value, name)\u001b[0m\n\u001b[1;32m   1939\u001b[0m \u001b[38;5;66;03m# align and set the values\u001b[39;00m\n\u001b[1;32m   1940\u001b[0m \u001b[38;5;28;01mif\u001b[39;00m take_split_path:\n\u001b[1;32m   1941\u001b[0m     \u001b[38;5;66;03m# We have to operate column-wise\u001b[39;00m\n\u001b[0;32m-> 1942\u001b[0m     \u001b[38;5;28;43mself\u001b[39;49m\u001b[38;5;241;43m.\u001b[39;49m\u001b[43m_setitem_with_indexer_split_path\u001b[49m\u001b[43m(\u001b[49m\u001b[43mindexer\u001b[49m\u001b[43m,\u001b[49m\u001b[43m \u001b[49m\u001b[43mvalue\u001b[49m\u001b[43m,\u001b[49m\u001b[43m \u001b[49m\u001b[43mname\u001b[49m\u001b[43m)\u001b[49m\n\u001b[1;32m   1943\u001b[0m \u001b[38;5;28;01melse\u001b[39;00m:\n\u001b[1;32m   1944\u001b[0m     \u001b[38;5;28mself\u001b[39m\u001b[38;5;241m.\u001b[39m_setitem_single_block(indexer, value, name)\n",
      "File \u001b[0;32m/opt/conda/lib/python3.12/site-packages/pandas/core/indexing.py:2027\u001b[0m, in \u001b[0;36m_iLocIndexer._setitem_with_indexer_split_path\u001b[0;34m(self, indexer, value, name)\u001b[0m\n\u001b[1;32m   2024\u001b[0m         \u001b[38;5;28mself\u001b[39m\u001b[38;5;241m.\u001b[39m_setitem_single_column(ilocs[\u001b[38;5;241m0\u001b[39m], value, pi)\n\u001b[1;32m   2026\u001b[0m     \u001b[38;5;28;01melse\u001b[39;00m:\n\u001b[0;32m-> 2027\u001b[0m         \u001b[38;5;28;01mraise\u001b[39;00m \u001b[38;5;167;01mValueError\u001b[39;00m(\n\u001b[1;32m   2028\u001b[0m             \u001b[38;5;124m\"\u001b[39m\u001b[38;5;124mMust have equal len keys and value \u001b[39m\u001b[38;5;124m\"\u001b[39m\n\u001b[1;32m   2029\u001b[0m             \u001b[38;5;124m\"\u001b[39m\u001b[38;5;124mwhen setting with an iterable\u001b[39m\u001b[38;5;124m\"\u001b[39m\n\u001b[1;32m   2030\u001b[0m         )\n\u001b[1;32m   2032\u001b[0m \u001b[38;5;28;01melse\u001b[39;00m:\n\u001b[1;32m   2033\u001b[0m     \u001b[38;5;66;03m# scalar value\u001b[39;00m\n\u001b[1;32m   2034\u001b[0m     \u001b[38;5;28;01mfor\u001b[39;00m loc \u001b[38;5;129;01min\u001b[39;00m ilocs:\n",
      "\u001b[0;31mValueError\u001b[0m: Must have equal len keys and value when setting with an iterable"
     ]
    }
   ],
   "source": [
    "# Recodage à la main de toutes les informations nécéssaires.\n",
    "\n",
    "for index in legal_pays_clean.index:\n",
    "    content = legal_pays_clean.loc[index].values.flatten().tolist()\n",
    "    content = content[:-1]\n",
    "    for i in range(len(content)):\n",
    "        if \"Legal\" in content[i]:\n",
    "            content[i] = \"Legal\"\n",
    "        elif \"Illegal\" in content[i]:\n",
    "            content[i] = \"Illegal\"\n",
    "        elif \"Decriminalized\" in content[i]:\n",
    "            content[i] = \"Decriminalized\"\n",
    "\n",
    "    legal_pays_clean.loc[index] = content\n",
    "\n",
    "\"\"\"\n",
    "legal_pays_clean.loc[\"Austria\"] = ['Decriminalized','Legal']\n",
    "legal_pays_clean.loc[\"Belgium\"] = ['Decriminalized','Legal']\n",
    "legal_pays_clean.loc[\"Croatia\"] = ['Decriminalized','Legal']\n",
    "legal_pays_clean.loc[\"Cyprus\"] = ['Illegal','Legal']\n",
    "legal_pays_clean.loc[\"Czechia\"] = ['Decriminalized','Legal']\n",
    "legal_pays_clean.loc[\"Czechia\"] = ['Decriminalized','Legal']\n",
    "\"\"\"\n",
    "\n",
    "\n",
    "\n",
    "print(legal_pays_clean)"
   ]
  }
 ],
 "metadata": {
  "kernelspec": {
   "display_name": "base",
   "language": "python",
   "name": "python3"
  },
  "language_info": {
   "codemirror_mode": {
    "name": "ipython",
    "version": 3
   },
   "file_extension": ".py",
   "mimetype": "text/x-python",
   "name": "python",
   "nbconvert_exporter": "python",
   "pygments_lexer": "ipython3",
   "version": "3.12.6"
  }
 },
 "nbformat": 4,
 "nbformat_minor": 2
}
