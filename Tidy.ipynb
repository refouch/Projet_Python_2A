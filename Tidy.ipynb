{
 "cells": [
  {
   "cell_type": "markdown",
   "metadata": {},
   "source": [
    "# Phase de Nettoyage des données\n",
    "\n",
    "Les différentes données récupérées ont tout d'abord besoin d'être nettoyées pour les besoins du projet. Si les données fournies par l'EUDA sont déjà très propres et ne nécéssiteront qu'un léger travail de tri, voire éventuellement quelques merge utiles sur certaines tables, ce n'est pas le cas des données scrapées à partir de pages Wikipedia qui vont nous demander un travail de nettoyage plus approfondi.\n",
    "\n",
    "## Nettoyage des données scrapées depuis Wikipedia\n",
    "\n",
    "On commence par générer notre dataframe à partir du scraping des données de [l'article Wikipedia sur la légalisation du Cannabis par Pays](https://en.wikipedia.org/wiki/Legality_of_cannabis). Le code détaillé et commenté se trouve dans le fichier `scraping.py`, on se contente ici d'appeler nos fonctions.\n"
   ]
  },
  {
   "cell_type": "code",
   "execution_count": 16,
   "metadata": {},
   "outputs": [
    {
     "data": {
      "text/html": [
       "<div>\n",
       "<style scoped>\n",
       "    .dataframe tbody tr th:only-of-type {\n",
       "        vertical-align: middle;\n",
       "    }\n",
       "\n",
       "    .dataframe tbody tr th {\n",
       "        vertical-align: top;\n",
       "    }\n",
       "\n",
       "    .dataframe thead th {\n",
       "        text-align: right;\n",
       "    }\n",
       "</style>\n",
       "<table border=\"1\" class=\"dataframe\">\n",
       "  <thead>\n",
       "    <tr style=\"text-align: right;\">\n",
       "      <th></th>\n",
       "      <th>Recreational</th>\n",
       "      <th>Medical</th>\n",
       "      <th>Notes</th>\n",
       "    </tr>\n",
       "  </thead>\n",
       "  <tbody>\n",
       "    <tr>\n",
       "      <th>Afghanistan</th>\n",
       "      <td>Illegal</td>\n",
       "      <td>Illegal</td>\n",
       "      <td>Main article: Cannabis in Afghanistan Producti...</td>\n",
       "    </tr>\n",
       "    <tr>\n",
       "      <th>Albania</th>\n",
       "      <td>Illegal</td>\n",
       "      <td>Legal</td>\n",
       "      <td>Main article: Cannabis in Albania Prohibited b...</td>\n",
       "    </tr>\n",
       "    <tr>\n",
       "      <th>Algeria</th>\n",
       "      <td>Illegal</td>\n",
       "      <td>Illegal</td>\n",
       "      <td>Main article: Cannabis in Algeria</td>\n",
       "    </tr>\n",
       "    <tr>\n",
       "      <th>Andorra</th>\n",
       "      <td>Illegal</td>\n",
       "      <td>Illegal</td>\n",
       "      <td>Main article: Cannabis in Andorra</td>\n",
       "    </tr>\n",
       "    <tr>\n",
       "      <th>Angola</th>\n",
       "      <td>Illegal</td>\n",
       "      <td>Illegal</td>\n",
       "      <td>Main article: Cannabis in Angola</td>\n",
       "    </tr>\n",
       "  </tbody>\n",
       "</table>\n",
       "</div>"
      ],
      "text/plain": [
       "            Recreational  Medical  \\\n",
       "Afghanistan      Illegal  Illegal   \n",
       "Albania          Illegal    Legal   \n",
       "Algeria          Illegal  Illegal   \n",
       "Andorra          Illegal  Illegal   \n",
       "Angola           Illegal  Illegal   \n",
       "\n",
       "                                                         Notes  \n",
       "Afghanistan  Main article: Cannabis in Afghanistan Producti...  \n",
       "Albania      Main article: Cannabis in Albania Prohibited b...  \n",
       "Algeria                      Main article: Cannabis in Algeria  \n",
       "Andorra                      Main article: Cannabis in Andorra  \n",
       "Angola                        Main article: Cannabis in Angola  "
      ]
     },
     "execution_count": 16,
     "metadata": {},
     "output_type": "execute_result"
    }
   ],
   "source": [
    "from Data.scraping import scraping as s\n",
    "\n",
    "url = \"https://en.wikipedia.org/wiki/Legality_of_cannabis\"\n",
    "\n",
    "table = s.scrape_second_wikipedia_table(url)\n",
    "data, header = s.table_to_list(table)\n",
    "legal_pays = s.make_pandas(data, header)\n",
    "\n",
    "legal_pays.head()"
   ]
  },
  {
   "cell_type": "markdown",
   "metadata": {},
   "source": [
    "On remarque alors que notre Dataframe contient plusieurs éléments qui nécéssitent d'être nettoyés, modifiés, voire supprimés. Dans l'ordre on peut citer:\n",
    "\n",
    "1. **Supprimer la dernier colonne concernant les \"Notes\"**, qui peuvent nous être utile à des fins d'interprétation, ou encore pour aider à la classification ou à l'interprétation plus tard, mais qui en l'état seront inutiles à la statistique descriptive ou à la construction de modèles plus tard.\n",
    "\n",
    "2. **Eliminer de notre dataframe les pays non-européens**, puisque les données de l'EUDA ne s'intéresse qu'au cas européeen, et que c'est là le coeur de notre sujet.\n",
    "\n",
    "3. Enfin, il nous faudra **regrouper les différentes états des variables sous un format clair** En l'état, on dispose pour chaque pays d'une description parfois unique et idividuelle de la législation dans le pays donné. L'idéal serait de ne garder qu'une variable binaire: Légal/Illégal. Cependant la réalité est plus complexe dans certains pays, et il nous faudra alors faire des choix, et les justifier, pour essayer de ne garder qu'un nombre limité d'état pour chaque variable."
   ]
  },
  {
   "cell_type": "markdown",
   "metadata": {},
   "source": [
    "### Suppression de la colonne des Notes\n",
    "\n",
    "Cela n'est pas bien compliqué, on utilise simplement les outils de la librairie Pandas:"
   ]
  },
  {
   "cell_type": "code",
   "execution_count": 17,
   "metadata": {},
   "outputs": [
    {
     "data": {
      "text/html": [
       "<div>\n",
       "<style scoped>\n",
       "    .dataframe tbody tr th:only-of-type {\n",
       "        vertical-align: middle;\n",
       "    }\n",
       "\n",
       "    .dataframe tbody tr th {\n",
       "        vertical-align: top;\n",
       "    }\n",
       "\n",
       "    .dataframe thead th {\n",
       "        text-align: right;\n",
       "    }\n",
       "</style>\n",
       "<table border=\"1\" class=\"dataframe\">\n",
       "  <thead>\n",
       "    <tr style=\"text-align: right;\">\n",
       "      <th></th>\n",
       "      <th>Recreational</th>\n",
       "      <th>Medical</th>\n",
       "    </tr>\n",
       "  </thead>\n",
       "  <tbody>\n",
       "    <tr>\n",
       "      <th>Afghanistan</th>\n",
       "      <td>Illegal</td>\n",
       "      <td>Illegal</td>\n",
       "    </tr>\n",
       "    <tr>\n",
       "      <th>Albania</th>\n",
       "      <td>Illegal</td>\n",
       "      <td>Legal</td>\n",
       "    </tr>\n",
       "    <tr>\n",
       "      <th>Algeria</th>\n",
       "      <td>Illegal</td>\n",
       "      <td>Illegal</td>\n",
       "    </tr>\n",
       "    <tr>\n",
       "      <th>Andorra</th>\n",
       "      <td>Illegal</td>\n",
       "      <td>Illegal</td>\n",
       "    </tr>\n",
       "    <tr>\n",
       "      <th>Angola</th>\n",
       "      <td>Illegal</td>\n",
       "      <td>Illegal</td>\n",
       "    </tr>\n",
       "  </tbody>\n",
       "</table>\n",
       "</div>"
      ],
      "text/plain": [
       "            Recreational  Medical\n",
       "Afghanistan      Illegal  Illegal\n",
       "Albania          Illegal    Legal\n",
       "Algeria          Illegal  Illegal\n",
       "Andorra          Illegal  Illegal\n",
       "Angola           Illegal  Illegal"
      ]
     },
     "execution_count": 17,
     "metadata": {},
     "output_type": "execute_result"
    }
   ],
   "source": [
    "import pandas as pd\n",
    "\n",
    "legal_pays_clean = legal_pays.drop(columns = \"Notes\")\n",
    "\n",
    "legal_pays_clean.head()"
   ]
  },
  {
   "cell_type": "markdown",
   "metadata": {},
   "source": [
    "### Tri pour ne garder que les pays Européens\n",
    "\n",
    "Cette opération n'est elle aussi pas très compliquée, on va se servir d'une table de correspondance scrapée sur le [site national de Statistiques Candiennes](https://www23.statcan.gc.ca/imdb/p3VD.pl?Function=getVD&TVD=1312110) (ce afin d'avoir le nom des pays en anglais), qui nous sera d'ailleurs aussi utile plus tard afin de faire correspondre chaque pays de l'Union européenne avec son code ISO 3316."
   ]
  },
  {
   "cell_type": "code",
   "execution_count": 18,
   "metadata": {},
   "outputs": [
    {
     "data": {
      "text/html": [
       "<div>\n",
       "<style scoped>\n",
       "    .dataframe tbody tr th:only-of-type {\n",
       "        vertical-align: middle;\n",
       "    }\n",
       "\n",
       "    .dataframe tbody tr th {\n",
       "        vertical-align: top;\n",
       "    }\n",
       "\n",
       "    .dataframe thead th {\n",
       "        text-align: right;\n",
       "    }\n",
       "</style>\n",
       "<table border=\"1\" class=\"dataframe\">\n",
       "  <thead>\n",
       "    <tr style=\"text-align: right;\">\n",
       "      <th></th>\n",
       "      <th>0</th>\n",
       "      <th>1</th>\n",
       "    </tr>\n",
       "  </thead>\n",
       "  <tbody>\n",
       "    <tr>\n",
       "      <th>Belgium</th>\n",
       "      <td>BE</td>\n",
       "      <td>BEL</td>\n",
       "    </tr>\n",
       "    <tr>\n",
       "      <th>Bulgaria</th>\n",
       "      <td>BG</td>\n",
       "      <td>BGR</td>\n",
       "    </tr>\n",
       "    <tr>\n",
       "      <th>Croatia</th>\n",
       "      <td>HR</td>\n",
       "      <td>HRV</td>\n",
       "    </tr>\n",
       "    <tr>\n",
       "      <th>Cyprus</th>\n",
       "      <td>CY</td>\n",
       "      <td>CYP</td>\n",
       "    </tr>\n",
       "    <tr>\n",
       "      <th>Czechia</th>\n",
       "      <td>CZ</td>\n",
       "      <td>CZE</td>\n",
       "    </tr>\n",
       "  </tbody>\n",
       "</table>\n",
       "</div>"
      ],
      "text/plain": [
       "           0    1\n",
       "Belgium   BE  BEL\n",
       "Bulgaria  BG  BGR\n",
       "Croatia   HR  HRV\n",
       "Cyprus    CY  CYP\n",
       "Czechia   CZ  CZE"
      ]
     },
     "execution_count": 18,
     "metadata": {},
     "output_type": "execute_result"
    }
   ],
   "source": [
    "from Data.scraping import scraping as s\n",
    "\n",
    "url = \"https://www23.statcan.gc.ca/imdb/p3VD.pl?Function=getVD&TVD=1312110\"\n",
    "\n",
    "table = s.scrape_first_table(url)\n",
    "data, header = s.table_to_list(table)\n",
    "table_corres = s.make_pandas(data)\n",
    "\n",
    "table_corres.head()"
   ]
  },
  {
   "cell_type": "markdown",
   "metadata": {},
   "source": [
    "On doit néanmoins ajouter à la main certains pays non-membres de l'Union Européenne, mais présent dans les données que nous avons à disposition (souvent des pays candidats comme la Turquie):"
   ]
  },
  {
   "cell_type": "code",
   "execution_count": 19,
   "metadata": {},
   "outputs": [
    {
     "data": {
      "text/html": [
       "<div>\n",
       "<style scoped>\n",
       "    .dataframe tbody tr th:only-of-type {\n",
       "        vertical-align: middle;\n",
       "    }\n",
       "\n",
       "    .dataframe tbody tr th {\n",
       "        vertical-align: top;\n",
       "    }\n",
       "\n",
       "    .dataframe thead th {\n",
       "        text-align: right;\n",
       "    }\n",
       "</style>\n",
       "<table border=\"1\" class=\"dataframe\">\n",
       "  <thead>\n",
       "    <tr style=\"text-align: right;\">\n",
       "      <th></th>\n",
       "      <th>0</th>\n",
       "      <th>1</th>\n",
       "    </tr>\n",
       "  </thead>\n",
       "  <tbody>\n",
       "    <tr>\n",
       "      <th>Spain</th>\n",
       "      <td>ES</td>\n",
       "      <td>ESP</td>\n",
       "    </tr>\n",
       "    <tr>\n",
       "      <th>Sweden</th>\n",
       "      <td>SE</td>\n",
       "      <td>SWE</td>\n",
       "    </tr>\n",
       "    <tr>\n",
       "      <th>Austria</th>\n",
       "      <td>AT</td>\n",
       "      <td>AUT</td>\n",
       "    </tr>\n",
       "    <tr>\n",
       "      <th>Türkiye</th>\n",
       "      <td>TR</td>\n",
       "      <td>TUR</td>\n",
       "    </tr>\n",
       "    <tr>\n",
       "      <th>Norway</th>\n",
       "      <td>NO</td>\n",
       "      <td>NOR</td>\n",
       "    </tr>\n",
       "  </tbody>\n",
       "</table>\n",
       "</div>"
      ],
      "text/plain": [
       "          0    1\n",
       "Spain    ES  ESP\n",
       "Sweden   SE  SWE\n",
       "Austria  AT  AUT\n",
       "Türkiye  TR  TUR\n",
       "Norway   NO  NOR"
      ]
     },
     "execution_count": 19,
     "metadata": {},
     "output_type": "execute_result"
    }
   ],
   "source": [
    "import pandas as pd\n",
    "\n",
    "table_corres.loc[\"Austria\"] = [\"AT\",\"AUT\"]\n",
    "table_corres.loc[\"Türkiye\"] = [\"TR\",\"TUR\"]\n",
    "table_corres.loc[\"Norway\"] = [\"NO\",\"NOR\"]\n",
    "\n",
    "table_corres.tail()"
   ]
  },
  {
   "cell_type": "markdown",
   "metadata": {},
   "source": [
    "On effectue ensuite le tri des pays européens selon la manière suivante, en supprimant de la table principale toutes les lignes qui n'ont pas d'équivalent dans la table de correspondance."
   ]
  },
  {
   "cell_type": "code",
   "execution_count": 20,
   "metadata": {},
   "outputs": [
    {
     "data": {
      "text/html": [
       "<div>\n",
       "<style scoped>\n",
       "    .dataframe tbody tr th:only-of-type {\n",
       "        vertical-align: middle;\n",
       "    }\n",
       "\n",
       "    .dataframe tbody tr th {\n",
       "        vertical-align: top;\n",
       "    }\n",
       "\n",
       "    .dataframe thead th {\n",
       "        text-align: right;\n",
       "    }\n",
       "</style>\n",
       "<table border=\"1\" class=\"dataframe\">\n",
       "  <thead>\n",
       "    <tr style=\"text-align: right;\">\n",
       "      <th></th>\n",
       "      <th>Recreational</th>\n",
       "      <th>Medical</th>\n",
       "    </tr>\n",
       "  </thead>\n",
       "  <tbody>\n",
       "    <tr>\n",
       "      <th>Austria</th>\n",
       "      <td>Possession for personal use decriminalized as ...</td>\n",
       "      <td>Dronabinol, Sativex, Nabilone[25]</td>\n",
       "    </tr>\n",
       "    <tr>\n",
       "      <th>Belgium</th>\n",
       "      <td>Decriminalized up to 3 g (1⁄10 oz) or cultivat...</td>\n",
       "      <td>Sativex[31]</td>\n",
       "    </tr>\n",
       "    <tr>\n",
       "      <th>Bulgaria</th>\n",
       "      <td>Illegal</td>\n",
       "      <td>Illegal</td>\n",
       "    </tr>\n",
       "    <tr>\n",
       "      <th>Croatia</th>\n",
       "      <td>Decriminalized[71]</td>\n",
       "      <td>Legal[72]</td>\n",
       "    </tr>\n",
       "    <tr>\n",
       "      <th>Cyprus</th>\n",
       "      <td>Illegal</td>\n",
       "      <td>Legal[73]</td>\n",
       "    </tr>\n",
       "  </tbody>\n",
       "</table>\n",
       "</div>"
      ],
      "text/plain": [
       "                                               Recreational  \\\n",
       "Austria   Possession for personal use decriminalized as ...   \n",
       "Belgium   Decriminalized up to 3 g (1⁄10 oz) or cultivat...   \n",
       "Bulgaria                                            Illegal   \n",
       "Croatia                                  Decriminalized[71]   \n",
       "Cyprus                                              Illegal   \n",
       "\n",
       "                                    Medical  \n",
       "Austria   Dronabinol, Sativex, Nabilone[25]  \n",
       "Belgium                         Sativex[31]  \n",
       "Bulgaria                            Illegal  \n",
       "Croatia                           Legal[72]  \n",
       "Cyprus                            Legal[73]  "
      ]
     },
     "execution_count": 20,
     "metadata": {},
     "output_type": "execute_result"
    }
   ],
   "source": [
    "# On renomme certains pays pour correspondre aux données de l'EUDA \n",
    "legal_pays_clean.rename(index={\"Turkey\":\"Türkiye\"}, inplace=True)\n",
    "legal_pays_clean.rename(index={\"Czech Republic\":\"Czechia\"}, inplace=True)\n",
    "\n",
    "for index in legal_pays_clean.index:\n",
    "    if index in table_corres.index:\n",
    "        pass\n",
    "    else:\n",
    "        legal_pays_clean = legal_pays_clean.drop(index = index)\n",
    "\n",
    "legal_pays_clean.head()\n"
   ]
  },
  {
   "cell_type": "markdown",
   "metadata": {},
   "source": [
    "### Recodage de chaque élément dans une variable ternaire\n",
    "\n",
    "Il nous faut désormais faire un travail de recodage des informations contenues dans le tableau, afin de ne garder au final qu'une variable avec trois états possibles:\n",
    "\n",
    "- `Legal` si la consommation, la possession et la vente sont légales et encadrées dans le pays\n",
    "- `Illegal` si la consommation, la possession et la vente sont illégale et passibles de poursuites judiciaires\n",
    "- `Decriminalized` si la consommation et la possession sont décriminalisées, mais la vente est illégale. On ne fait pas ici de différence entre la pénalisation ou non du cannabis (la seule différence étant que dans le cas ou ce dernier est pénalisé, la consommation et la possession sont toujours passibles d'une amende, mais pas de poursuites légales)\n",
    "\n",
    "L'information est souvent contenue en clair dans notre tableau, mais perdue au milieu de précisions et de nuances propres à chaque pays. Par souci de simplicité, on appliquera les règles suivantes afin de recoder efficacement le tableau:\n",
    "\n",
    "- **On ignorera toute limite de poids ou de nombres de plants**: Par exemple dans le cas de la République Tchèque, la possession de cannabis est décriminalisée jusqu'à 10g, et illégale au delà. On la considère donc simplement comme décriminalisée.\n",
    "\n",
    "- **Dans le domaine médical, l'autorisation du Sativex vaut pour légalisation, celle du CBD non**: En effet, le Sativex contient du THC tout comme certains autres médicaments dérivés de cannabis, ce qui n'est pas le cas pour le CBD (ou alors en quantité très faible). En outre, au vu du fait que le CBD soit légal dans la plupart des pays, considérer son autorisation comme valant légalisation aurait pour conséquence d'appauvrir largement nos données.\n",
    "\n",
    "- **On se tiendra à la stricte législation théorique, sans prendre en compte pour l'instant son application pratique**, cela aussi par souci de simplicité car la situation de chaque pays est unique et complexe. Par exemple, en Finlande, la possession et la consommation de cannabis est illégale *stricto sensu* et peut valoir une peine de prison. En réalité, les consommateurs s'en tirent souvent avec une simple amende; ce qui serait presque équivalent *en pratique* à une décriminalisation. Le fait est qu'il nous est impossible de trancher pour chaque pays à quel moment s'arrête la théorie et commence la pratique. Nous n'avons en effet ni la compétence sur le sujet, ni l'autorité nécessaire pour effectuer ce genre d'arbitrage, ce qui nous amène à ne prendre en compte que la législation en vigueur, et non son application réelle.\n",
    "En revanche, il pourra nous être utile de tenir compte de ces différences d'application de la loi lors de l'analyse que nous ferons de nos données, mais pas dans la construction de celles-ci.\n",
    "\n",
    "En prenant cela en compte, nous pouvons recoder le tableau de la manière suivante:"
   ]
  },
  {
   "cell_type": "code",
   "execution_count": 21,
   "metadata": {},
   "outputs": [
    {
     "name": "stdout",
     "output_type": "stream",
     "text": [
      "               Recreational                                            Medical\n",
      "Austria      Decriminalized                                              Legal\n",
      "Belgium      Decriminalized                                              Legal\n",
      "Bulgaria            Illegal                                            Illegal\n",
      "Croatia      Decriminalized                                              Legal\n",
      "Cyprus              Illegal                                              Legal\n",
      "Czechia      Decriminalized                                              Legal\n",
      "Denmark             Illegal                                              Legal\n",
      "Estonia      Decriminalized                          With a special permit[88]\n",
      "Finland             Illegal                                              Legal\n",
      "France              Illegal  A two-year trial program involving 3,000 patie...\n",
      "Germany               Legal                                              Legal\n",
      "Greece              Illegal                                              Legal\n",
      "Hungary             Illegal                                            Illegal\n",
      "Ireland             Illegal                                              Legal\n",
      "Italy        Decriminalized                                              Legal\n",
      "Latvia              Illegal                                            Illegal\n",
      "Lithuania           Illegal                                            Illegal\n",
      "Luxembourg            Legal                                              Legal\n",
      "Malta                 Legal                                              Legal\n",
      "Netherlands  Decriminalized                                              Legal\n",
      "Norway              Illegal                                              Legal\n",
      "Poland              Illegal                                              Legal\n",
      "Portugal     Decriminalized                                              Legal\n",
      "Romania             Illegal  Cannabis-derived drugs less than 0.2% THC can ...\n",
      "Slovakia            Illegal                                            Illegal\n",
      "Slovenia     Decriminalized                                              Legal\n",
      "Spain        Decriminalized                                              Legal\n",
      "Sweden              Illegal                                              Legal\n",
      "Türkiye             Illegal                                              Legal\n"
     ]
    }
   ],
   "source": [
    "# Recodage des information selon les règles fixées plus haut\n",
    "\n",
    "for index in legal_pays_clean.index:\n",
    "\n",
    "    content = legal_pays_clean.loc[index].values.flatten().tolist()\n",
    "    \n",
    "    for i in range(len(content)):\n",
    "        if \"Legal\" in content[i] or \"Sativex\" in content[i]:\n",
    "            content[i] = \"Legal\"\n",
    "        elif \"Illegal\" in content[i] or \"CBD\" in content[i]:\n",
    "            content[i] = \"Illegal\"\n",
    "        elif \"Decriminalized\" in content[i] or \"decriminalized\" in content[i]:\n",
    "            content[i] = \"Decriminalized\"\n",
    "\n",
    "    legal_pays_clean.loc[index] = content\n",
    "\n",
    "print(legal_pays_clean)"
   ]
  },
  {
   "cell_type": "markdown",
   "metadata": {},
   "source": [
    "Puisqu'il reste après filtrage encore quelques valeurs qui n'ont pas de définition claire, nous n'avons d'autre choix que de les recoder à la main, en justifiant bien évidemment nos choix à chaque étape:\n",
    "\n",
    "- En Estonie, l'usage du cannabis pour la médecine est autorisé avec \"un permis spécial\". Dans les faits, une recherche plus détaillée sur ce permis nous apprend qu'il n'est en réalité jamais délivré et qu'un seul patient a ce jour a été autorisé à recevoir du Sativex. Cependant, pour être cohérent avec notre règle fixée plus haut de ne prendre en compte que la législation théorique en vigueur, on choisit de considérer l'usage comme Légal, puisqu'il est théoriquement possible.\n",
    "\n",
    "- En France, l'usage cannabis thérapeutique est aujourd'hui sujet d'expérimentation dans certains cas précis et très encadrés, mais reste en théorie illégal. On choisit donc de le coder comme étant illégal puisque les expérimentations encadrées n'ouvrent pas à une possibilité d'utilisation pour la population générale.\n",
    "\n",
    "- En Roumanie, l'usage thérapeutique de dérivés de cannabis avec une teneur en THC inférieure à 0,2% est autorisée. Etant donnée que la plupart des pays (dont la France) autorisent le CBD à condition qu'il ne contienne pas plus de 0,3% de THC, on choisit de considérer l'usage thérapeutique en Roumanie comme illégal, puisqu'on s'est fixé comme règle plus haut que la légalisation du CBD ne valait pas celle du cannabis."
   ]
  },
  {
   "cell_type": "code",
   "execution_count": 22,
   "metadata": {},
   "outputs": [
    {
     "data": {
      "text/html": [
       "<div>\n",
       "<style scoped>\n",
       "    .dataframe tbody tr th:only-of-type {\n",
       "        vertical-align: middle;\n",
       "    }\n",
       "\n",
       "    .dataframe tbody tr th {\n",
       "        vertical-align: top;\n",
       "    }\n",
       "\n",
       "    .dataframe thead th {\n",
       "        text-align: right;\n",
       "    }\n",
       "</style>\n",
       "<table border=\"1\" class=\"dataframe\">\n",
       "  <thead>\n",
       "    <tr style=\"text-align: right;\">\n",
       "      <th></th>\n",
       "      <th>Recreational</th>\n",
       "      <th>Medical</th>\n",
       "    </tr>\n",
       "  </thead>\n",
       "  <tbody>\n",
       "    <tr>\n",
       "      <th>Austria</th>\n",
       "      <td>Decriminalized</td>\n",
       "      <td>Legal</td>\n",
       "    </tr>\n",
       "    <tr>\n",
       "      <th>Belgium</th>\n",
       "      <td>Decriminalized</td>\n",
       "      <td>Legal</td>\n",
       "    </tr>\n",
       "    <tr>\n",
       "      <th>Bulgaria</th>\n",
       "      <td>Illegal</td>\n",
       "      <td>Illegal</td>\n",
       "    </tr>\n",
       "    <tr>\n",
       "      <th>Croatia</th>\n",
       "      <td>Decriminalized</td>\n",
       "      <td>Legal</td>\n",
       "    </tr>\n",
       "    <tr>\n",
       "      <th>Cyprus</th>\n",
       "      <td>Illegal</td>\n",
       "      <td>Legal</td>\n",
       "    </tr>\n",
       "  </tbody>\n",
       "</table>\n",
       "</div>"
      ],
      "text/plain": [
       "            Recreational  Medical\n",
       "Austria   Decriminalized    Legal\n",
       "Belgium   Decriminalized    Legal\n",
       "Bulgaria         Illegal  Illegal\n",
       "Croatia   Decriminalized    Legal\n",
       "Cyprus           Illegal    Legal"
      ]
     },
     "execution_count": 22,
     "metadata": {},
     "output_type": "execute_result"
    }
   ],
   "source": [
    "# Recodage à la main des informations plus ambigues\n",
    "\n",
    "legal_pays_clean.loc['France','Medical'] = 'Illegal'\n",
    "legal_pays_clean.loc['Estonia','Medical'] = 'Legal'\n",
    "legal_pays_clean.loc['Romania','Medical'] = 'Illegal'\n",
    "\n",
    "legal_pays_clean.head()"
   ]
  },
  {
   "cell_type": "markdown",
   "metadata": {},
   "source": [
    "On obtient donc finalement un tableau complètement nettoyé et exploitable pour nos analyses futures !"
   ]
  }
 ],
 "metadata": {
  "kernelspec": {
   "display_name": "base",
   "language": "python",
   "name": "python3"
  },
  "language_info": {
   "codemirror_mode": {
    "name": "ipython",
    "version": 3
   },
   "file_extension": ".py",
   "mimetype": "text/x-python",
   "name": "python",
   "nbconvert_exporter": "python",
   "pygments_lexer": "ipython3",
   "version": "3.12.7"
  }
 },
 "nbformat": 4,
 "nbformat_minor": 2
}
